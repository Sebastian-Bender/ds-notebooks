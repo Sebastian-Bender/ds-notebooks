{
 "cells": [
  {
   "cell_type": "code",
   "execution_count": 7,
   "metadata": {},
   "outputs": [],
   "source": [
    "import numpy as np \n",
    "import pandas as pd\n",
    "from matplotlib import pyplot as plt "
   ]
  },
  {
   "cell_type": "code",
   "execution_count": 8,
   "metadata": {},
   "outputs": [],
   "source": [
    "class Perceptron(object):\n",
    "    def __init__(self, number_of_inputs, epochs, eta):\n",
    "        self.weights = np.random.rand(number_of_inputs + 1)\n",
    "        self.epochs = epochs \n",
    "        self.eta = eta\n",
    "           \n",
    "    def activation_fn(self, x):\n",
    "        return 1 / (1 + np.exp(-x))\n",
    "    \n",
    "    def predict(self, inputs):\n",
    "        x = np.array(inputs, ndmin=2) \n",
    "        \n",
    "        x = np.insert(x, 0, 1, axis=1) \n",
    "        z = np.dot(x, self.weights.T) \n",
    "        return self.activation_fn(z) \n",
    "\n",
    "    def loss_fn(self, y, y_hat):\n",
    "        return (y - y_hat)**2\n",
    "    \n",
    "    def fit(self, training_inputs, labels):\n",
    "        for _ in range(self.epochs):\n",
    "            \n",
    "            for i in range(training_inputs.shape[0]):\n",
    "                x = np.insert(training_inputs[i], 0, 1)\n",
    "                y = labels[i]\n",
    "                y_hat = self.predict(training_inputs[i])\n",
    "                l = self.loss_fn(y, y_hat)\n",
    "                \n",
    "                grad = -2 * (y - y_hat) * y_hat * (1 - y_hat) * x\n",
    "                weights_d = self.eta * grad\n",
    "                self.weights = self.weights - weights_d\n",
    "                \n",
    "    def status(self):\n",
    "        print(\"Perceptron weights: \", self.weights)\n",
    "        \n",
    "    def getWeights(self):\n",
    "        return self.weights"
   ]
  },
  {
   "cell_type": "code",
   "execution_count": 9,
   "metadata": {},
   "outputs": [
    {
     "name": "stdout",
     "output_type": "stream",
     "text": [
      "Perceptron weights:  [-1.92028131  1.18276144  1.11405373]\n",
      "[0.1278302]\n",
      "[-1.92028131  1.18276144  1.11405373]\n"
     ]
    },
    {
     "data": {
      "image/png": "[encoded data removed]",
      "text/plain": [
       "<Figure size 432x288 with 1 Axes>"
      ]
     },
     "metadata": {
      "needs_background": "light"
     },
     "output_type": "display_data"
    }
   ],
   "source": [
    "train_input = np.array([\n",
    "                        [0, 0],\n",
    "                        [0, 1],\n",
    "                        [1, 0],\n",
    "                        [1, 1]\n",
    "                        ])\n",
    "\n",
    "labels_AND = np.array([0, 0, 0, 1])\n",
    "\n",
    "perceptron_AND = Perceptron(2, 100, 0.1)\n",
    "perceptron_AND.fit(train_input, labels_AND)\n",
    "perceptron_AND.status()\n",
    "print(perceptron_AND.predict(train_input[0]))\n",
    "perceptron_AND.predict(train_input)\n",
    "\n",
    "w = perceptron_AND.getWeights()\n",
    "print(w)\n",
    "m = (-w[1] / w[2])\n",
    "b = (-w[0] / w[2])\n",
    "\n",
    "fig = plt.figure(1)\n",
    "ax = fig.add_subplot(111)\n",
    "x = np.linspace(-0.2, 1.2)\n",
    "            \n",
    "ax.plot(x, (m*x+b), '-r')\n",
    "ax.plot(train_input[labels_AND==0][:,0], train_input[labels_AND==0][:,1], 'bo')\n",
    "ax.plot(train_input[labels_AND==1][:,0], train_input[labels_AND==1][:,1], 'go')\n",
    "plt.show()"
   ]
  },
  {
   "cell_type": "code",
   "execution_count": 10,
   "metadata": {},
   "outputs": [
    {
     "name": "stdout",
     "output_type": "stream",
     "text": [
      "Perceptron weights:  [-0.42339448  1.7995967   1.75858688]\n",
      "[-0.42339448  1.7995967   1.75858688]\n"
     ]
    },
    {
     "data": {
      "image/png": "[encoded data removed]",
      "text/plain": [
       "<Figure size 432x288 with 1 Axes>"
      ]
     },
     "metadata": {
      "needs_background": "light"
     },
     "output_type": "display_data"
    }
   ],
   "source": [
    "labels_OR = np.array([0, 1, 1, 1])\n",
    "\n",
    "perceptron_OR = Perceptron(2, 100, 0.1)\n",
    "perceptron_OR.fit(train_input, labels_OR)\n",
    "perceptron_OR.status()\n",
    "perceptron_OR.predict(train_input)\n",
    "\n",
    "w = perceptron_OR.getWeights()\n",
    "print(w)\n",
    "m = (-w[1] / w[2])\n",
    "b = (-w[0] / w[2])\n",
    "\n",
    "fig = plt.figure(1)\n",
    "ax = fig.add_subplot(111)\n",
    "x = np.linspace(-0.2, 1.2)\n",
    "            \n",
    "ax.plot(x, (m*x+b), '-r')\n",
    "ax.plot(train_input[labels_OR==0][:,0], train_input[labels_OR==0][:,1], 'bo')\n",
    "ax.plot(train_input[labels_OR==1][:,0], train_input[labels_OR==1][:,1], 'go')\n",
    "plt.show()"
   ]
  },
  {
   "cell_type": "code",
   "execution_count": null,
   "metadata": {},
   "outputs": [],
   "source": []
  }
 ],
 "metadata": {
  "kernelspec": {
   "display_name": "Python 3",
   "language": "python",
   "name": "python3"
  },
  "language_info": {
   "codemirror_mode": {
    "name": "ipython",
    "version": 3
   },
   "file_extension": ".py",
   "mimetype": "text/x-python",
   "name": "python",
   "nbconvert_exporter": "python",
   "pygments_lexer": "ipython3",
   "version": "3.8.5"
  }
 },
 "nbformat": 4,
 "nbformat_minor": 4
}
